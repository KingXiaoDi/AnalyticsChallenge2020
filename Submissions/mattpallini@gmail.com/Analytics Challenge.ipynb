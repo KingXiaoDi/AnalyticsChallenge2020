{
 "cells": [
  {
   "cell_type": "code",
   "execution_count": 1,
   "metadata": {},
   "outputs": [],
   "source": [
    "# load libaries\n",
    "import numpy as np\n",
    "import pandas as pd\n",
    "import requests\n",
    "import io\n",
    "import matplotlib.pyplot as plt\n",
    "import seaborn as sns\n",
    "\n",
    "# set option for pandas to display all columns\n",
    "pd.set_option('display.max_columns', 500)"
   ]
  },
  {
   "cell_type": "code",
   "execution_count": 2,
   "metadata": {},
   "outputs": [],
   "source": [
    "# load data from GitHub\n",
    "\n",
    "url = 'https://raw.githubusercontent.com/SportsInfoSolutions/AnalyticsChallenge2020/master/Data/AnalyticsChallenge2020Data.csv'\n",
    "df = pd.read_csv(url)"
   ]
  },
  {
   "cell_type": "code",
   "execution_count": 3,
   "metadata": {},
   "outputs": [
    {
     "name": "stdout",
     "output_type": "stream",
     "text": [
      "<class 'pandas.core.frame.DataFrame'>\n",
      "RangeIndex: 74012 entries, 0 to 74011\n",
      "Data columns (total 52 columns):\n",
      " #   Column              Non-Null Count  Dtype  \n",
      "---  ------              --------------  -----  \n",
      " 0   GameID              74012 non-null  int64  \n",
      " 1   EventID             74012 non-null  int64  \n",
      " 2   Season              74012 non-null  int64  \n",
      " 3   Week                74012 non-null  int64  \n",
      " 4   StadiumName         74012 non-null  object \n",
      " 5   OffensiveTeam       74012 non-null  object \n",
      " 6   DefensiveTeam       74012 non-null  object \n",
      " 7   OffTeamScoreBefore  74012 non-null  int64  \n",
      " 8   DefTeamScoreBefore  74012 non-null  int64  \n",
      " 9   Quarter             74012 non-null  int64  \n",
      " 10  TimeLeft            74012 non-null  int64  \n",
      " 11  Down                74012 non-null  int64  \n",
      " 12  ToGo                74012 non-null  int64  \n",
      " 13  SideOfField         74012 non-null  object \n",
      " 14  StartYard           74012 non-null  int64  \n",
      " 15  EventType           74012 non-null  object \n",
      " 16  FirstDown           74012 non-null  int64  \n",
      " 17  Touchdown           74012 non-null  int64  \n",
      " 18  Safety              74012 non-null  int64  \n",
      " 19  Turnover            74012 non-null  int64  \n",
      " 20  RunDirection        32020 non-null  object \n",
      " 21  UsedDesignedGap     32020 non-null  float64\n",
      " 22  Attempt             41992 non-null  float64\n",
      " 23  Completion          41992 non-null  float64\n",
      " 24  Spike               41992 non-null  float64\n",
      " 25  ThrowDepth          41992 non-null  float64\n",
      " 26  PressureOnPlay      41992 non-null  float64\n",
      " 27  SackOnPlay          41992 non-null  float64\n",
      " 28  PassBreakupOnPlay   41992 non-null  float64\n",
      " 29  InterceptionOnPlay  41992 non-null  float64\n",
      " 30  FumbleByPasser      41992 non-null  float64\n",
      " 31  FumbleByRusher      32020 non-null  float64\n",
      " 32  FumbleByReceiver    37463 non-null  float64\n",
      " 33  OffensiveYardage    74012 non-null  int64  \n",
      " 34  EPA                 74007 non-null  float64\n",
      " 35  PlayDesc            74012 non-null  object \n",
      " 36  PlayerId            74012 non-null  int64  \n",
      " 37  Name                74012 non-null  object \n",
      " 38  RosterPosition      74012 non-null  object \n",
      " 39  OnFieldPosition     74012 non-null  object \n",
      " 40  SideOfBall          69694 non-null  object \n",
      " 41  TechniqueName       74012 non-null  object \n",
      " 42  IsRushing           74012 non-null  int64  \n",
      " 43  SoloTackle          74012 non-null  int64  \n",
      " 44  AssistedTackle      74012 non-null  int64  \n",
      " 45  Pressure            74012 non-null  int64  \n",
      " 46  SoloSack            74012 non-null  int64  \n",
      " 47  AssistedSack        74012 non-null  int64  \n",
      " 48  PassBreakup         74012 non-null  int64  \n",
      " 49  Interception        74012 non-null  int64  \n",
      " 50  ForcedFumble        74012 non-null  int64  \n",
      " 51  RecoveredFumble     74012 non-null  int64  \n",
      "dtypes: float64(13), int64(27), object(12)\n",
      "memory usage: 29.4+ MB\n"
     ]
    }
   ],
   "source": [
    "df.info()"
   ]
  },
  {
   "cell_type": "markdown",
   "metadata": {},
   "source": [
    "# Add columns related to game situation"
   ]
  },
  {
   "cell_type": "code",
   "execution_count": 4,
   "metadata": {},
   "outputs": [],
   "source": [
    "# time left in game\n",
    "# 15 minutes per quarter = 900 seconds\n",
    "def time_left(quarter, time):\n",
    "    if quarter == 1:\n",
    "        return time + 900*3\n",
    "    elif quarter == 2:\n",
    "        return time + 900*2\n",
    "    elif quarter == 3:\n",
    "        return time + 900\n",
    "    else:\n",
    "        return time\n",
    "    \n",
    "# create lists for player types\n",
    "\n",
    "NT = ['0','1']\n",
    "DT = ['2','2i','3']\n",
    "DE = ['4','4i','5','7']\n",
    "EDGE = ['6','9','Outside','Off Ball']\n",
    "\n",
    "\n",
    "# create function to map player types based on technique\n",
    "def position_name(t):\n",
    "    if t in NT:\n",
    "        return 'NT'\n",
    "    elif t in DT:\n",
    "        return 'DT'\n",
    "    elif t in DE:\n",
    "        return 'DE'\n",
    "    else:\n",
    "        return 'EDGE'       "
   ]
  },
  {
   "cell_type": "code",
   "execution_count": 5,
   "metadata": {},
   "outputs": [],
   "source": [
    "#function that will clean up the entire data set\n",
    "\n",
    "def clean_data(data):\n",
    "    data.drop(data[data['Spike'] == 1].index, inplace = True)\n",
    "    data['EventType'].replace({'challenge pass':'pass', 'challenge rush':'rush'}, inplace = True)\n",
    "    data['dEPA'] = data['EPA']*-1\n",
    "    data['score_diff'] = data['DefTeamScoreBefore'] - data['OffTeamScoreBefore']\n",
    "    data['YardsToEndzone'] = data.apply(lambda x: 100-x['StartYard'] if x['SideOfField'] == 'Own' else x['StartYard'], axis = 1)\n",
    "    data['game_sec_left'] = data.apply(lambda x: time_left(x['Quarter'], x['TimeLeft']), axis = 1)\n",
    "    data['play_pos'] = data.apply(lambda x: position_name(x['TechniqueName']), axis = 1)\n",
    "    return data\n"
   ]
  },
  {
   "cell_type": "code",
   "execution_count": 6,
   "metadata": {},
   "outputs": [],
   "source": [
    "# create final data set to work with\n",
    "play_data = clean_data(df)"
   ]
  },
  {
   "cell_type": "markdown",
   "metadata": {},
   "source": [
    "# Look at aggregate data for each position"
   ]
  },
  {
   "cell_type": "code",
   "execution_count": 7,
   "metadata": {},
   "outputs": [],
   "source": [
    "dl_sum = play_data.groupby('play_pos').agg({'EventID':'count','PlayerId':'nunique','dEPA':'sum','SoloSack':'sum','AssistedSack':'sum', 'Pressure':'sum', 'PassBreakup':'sum','ForcedFumble':'sum'}).reset_index()"
   ]
  },
  {
   "cell_type": "code",
   "execution_count": 8,
   "metadata": {},
   "outputs": [
    {
     "data": {
      "text/html": [
       "<div>\n",
       "<style scoped>\n",
       "    .dataframe tbody tr th:only-of-type {\n",
       "        vertical-align: middle;\n",
       "    }\n",
       "\n",
       "    .dataframe tbody tr th {\n",
       "        vertical-align: top;\n",
       "    }\n",
       "\n",
       "    .dataframe thead th {\n",
       "        text-align: right;\n",
       "    }\n",
       "</style>\n",
       "<table border=\"1\" class=\"dataframe\">\n",
       "  <thead>\n",
       "    <tr style=\"text-align: right;\">\n",
       "      <th></th>\n",
       "      <th>play_pos</th>\n",
       "      <th>EventID</th>\n",
       "      <th>PlayerId</th>\n",
       "      <th>dEPA</th>\n",
       "      <th>SoloSack</th>\n",
       "      <th>AssistedSack</th>\n",
       "      <th>Pressure</th>\n",
       "      <th>PassBreakup</th>\n",
       "      <th>ForcedFumble</th>\n",
       "    </tr>\n",
       "  </thead>\n",
       "  <tbody>\n",
       "    <tr>\n",
       "      <th>0</th>\n",
       "      <td>DE</td>\n",
       "      <td>12919</td>\n",
       "      <td>302</td>\n",
       "      <td>541.090538</td>\n",
       "      <td>78</td>\n",
       "      <td>21</td>\n",
       "      <td>688</td>\n",
       "      <td>28</td>\n",
       "      <td>17</td>\n",
       "    </tr>\n",
       "    <tr>\n",
       "      <th>1</th>\n",
       "      <td>DT</td>\n",
       "      <td>19377</td>\n",
       "      <td>286</td>\n",
       "      <td>452.362025</td>\n",
       "      <td>92</td>\n",
       "      <td>14</td>\n",
       "      <td>701</td>\n",
       "      <td>57</td>\n",
       "      <td>8</td>\n",
       "    </tr>\n",
       "    <tr>\n",
       "      <th>2</th>\n",
       "      <td>EDGE</td>\n",
       "      <td>32562</td>\n",
       "      <td>602</td>\n",
       "      <td>918.890751</td>\n",
       "      <td>291</td>\n",
       "      <td>54</td>\n",
       "      <td>2020</td>\n",
       "      <td>112</td>\n",
       "      <td>74</td>\n",
       "    </tr>\n",
       "    <tr>\n",
       "      <th>3</th>\n",
       "      <td>NT</td>\n",
       "      <td>9015</td>\n",
       "      <td>217</td>\n",
       "      <td>269.010799</td>\n",
       "      <td>26</td>\n",
       "      <td>15</td>\n",
       "      <td>278</td>\n",
       "      <td>18</td>\n",
       "      <td>5</td>\n",
       "    </tr>\n",
       "  </tbody>\n",
       "</table>\n",
       "</div>"
      ],
      "text/plain": [
       "  play_pos  EventID  PlayerId        dEPA  SoloSack  AssistedSack  Pressure  \\\n",
       "0       DE    12919       302  541.090538        78            21       688   \n",
       "1       DT    19377       286  452.362025        92            14       701   \n",
       "2     EDGE    32562       602  918.890751       291            54      2020   \n",
       "3       NT     9015       217  269.010799        26            15       278   \n",
       "\n",
       "   PassBreakup  ForcedFumble  \n",
       "0           28            17  \n",
       "1           57             8  \n",
       "2          112            74  \n",
       "3           18             5  "
      ]
     },
     "execution_count": 8,
     "metadata": {},
     "output_type": "execute_result"
    }
   ],
   "source": [
    "dl_sum"
   ]
  },
  {
   "cell_type": "code",
   "execution_count": 9,
   "metadata": {},
   "outputs": [],
   "source": [
    "dl_mean = play_data.groupby('play_pos').agg({'EventID':'nunique','dEPA':'mean','SoloSack':'mean','AssistedSack':'mean', 'Pressure':'mean', 'PassBreakup':'mean','ForcedFumble':'mean'}).reset_index()"
   ]
  },
  {
   "cell_type": "code",
   "execution_count": 10,
   "metadata": {},
   "outputs": [],
   "source": [
    "# update dl_mean figures to be per 60 plays\n",
    "\n",
    "dl_mean['dEPA'] = dl_mean['dEPA']*60\n",
    "dl_mean['SoloSack'] = dl_mean['SoloSack']*60\n",
    "dl_mean['AssistedSack'] = dl_mean['AssistedSack']*60\n",
    "dl_mean['Pressure'] = dl_mean['Pressure']*60\n",
    "dl_mean['PassBreakup'] = dl_mean['PassBreakup']*60\n",
    "dl_mean['ForcedFumble'] = dl_mean['ForcedFumble']*60"
   ]
  },
  {
   "cell_type": "code",
   "execution_count": 11,
   "metadata": {},
   "outputs": [
    {
     "data": {
      "text/html": [
       "<div>\n",
       "<style scoped>\n",
       "    .dataframe tbody tr th:only-of-type {\n",
       "        vertical-align: middle;\n",
       "    }\n",
       "\n",
       "    .dataframe tbody tr th {\n",
       "        vertical-align: top;\n",
       "    }\n",
       "\n",
       "    .dataframe thead th {\n",
       "        text-align: right;\n",
       "    }\n",
       "</style>\n",
       "<table border=\"1\" class=\"dataframe\">\n",
       "  <thead>\n",
       "    <tr style=\"text-align: right;\">\n",
       "      <th></th>\n",
       "      <th>play_pos</th>\n",
       "      <th>EventID</th>\n",
       "      <th>dEPA</th>\n",
       "      <th>SoloSack</th>\n",
       "      <th>AssistedSack</th>\n",
       "      <th>Pressure</th>\n",
       "      <th>PassBreakup</th>\n",
       "      <th>ForcedFumble</th>\n",
       "    </tr>\n",
       "  </thead>\n",
       "  <tbody>\n",
       "    <tr>\n",
       "      <th>0</th>\n",
       "      <td>DE</td>\n",
       "      <td>217</td>\n",
       "      <td>2.512999</td>\n",
       "      <td>0.362257</td>\n",
       "      <td>0.097531</td>\n",
       "      <td>3.195294</td>\n",
       "      <td>0.130041</td>\n",
       "      <td>0.078953</td>\n",
       "    </tr>\n",
       "    <tr>\n",
       "      <th>1</th>\n",
       "      <td>DT</td>\n",
       "      <td>227</td>\n",
       "      <td>1.400863</td>\n",
       "      <td>0.284874</td>\n",
       "      <td>0.043350</td>\n",
       "      <td>2.170615</td>\n",
       "      <td>0.176498</td>\n",
       "      <td>0.024772</td>\n",
       "    </tr>\n",
       "    <tr>\n",
       "      <th>2</th>\n",
       "      <td>EDGE</td>\n",
       "      <td>234</td>\n",
       "      <td>1.693340</td>\n",
       "      <td>0.536208</td>\n",
       "      <td>0.099502</td>\n",
       "      <td>3.722130</td>\n",
       "      <td>0.206376</td>\n",
       "      <td>0.136355</td>\n",
       "    </tr>\n",
       "    <tr>\n",
       "      <th>3</th>\n",
       "      <td>NT</td>\n",
       "      <td>219</td>\n",
       "      <td>1.790421</td>\n",
       "      <td>0.173045</td>\n",
       "      <td>0.099834</td>\n",
       "      <td>1.850250</td>\n",
       "      <td>0.119800</td>\n",
       "      <td>0.033278</td>\n",
       "    </tr>\n",
       "  </tbody>\n",
       "</table>\n",
       "</div>"
      ],
      "text/plain": [
       "  play_pos  EventID      dEPA  SoloSack  AssistedSack  Pressure  PassBreakup  \\\n",
       "0       DE      217  2.512999  0.362257      0.097531  3.195294     0.130041   \n",
       "1       DT      227  1.400863  0.284874      0.043350  2.170615     0.176498   \n",
       "2     EDGE      234  1.693340  0.536208      0.099502  3.722130     0.206376   \n",
       "3       NT      219  1.790421  0.173045      0.099834  1.850250     0.119800   \n",
       "\n",
       "   ForcedFumble  \n",
       "0      0.078953  \n",
       "1      0.024772  \n",
       "2      0.136355  \n",
       "3      0.033278  "
      ]
     },
     "execution_count": 11,
     "metadata": {},
     "output_type": "execute_result"
    }
   ],
   "source": [
    "dl_mean"
   ]
  },
  {
   "cell_type": "code",
   "execution_count": 12,
   "metadata": {},
   "outputs": [
    {
     "data": {
      "image/png": "[encoded data removed]",
      "text/plain": [
       "<Figure size 432x288 with 1 Axes>"
      ]
     },
     "metadata": {
      "needs_background": "light"
     },
     "output_type": "display_data"
    }
   ],
   "source": [
    "# plot total players and dEPA\n",
    "\n",
    "sns.barplot(x = 'play_pos', y = 'dEPA', data = dl_sum)\n",
    "plt.xlabel('Position')\n",
    "plt.title('Total dEPA by Position')\n",
    "plt.show()\n"
   ]
  },
  {
   "cell_type": "code",
   "execution_count": 13,
   "metadata": {},
   "outputs": [
    {
     "data": {
      "image/png": "[encoded data removed]",
      "text/plain": [
       "<Figure size 432x288 with 1 Axes>"
      ]
     },
     "metadata": {
      "needs_background": "light"
     },
     "output_type": "display_data"
    }
   ],
   "source": [
    "sns.barplot(x = 'play_pos', y = 'PlayerId', data = dl_sum)\n",
    "plt.xlabel('Position')\n",
    "plt.ylabel('Player Count')\n",
    "plt.title('Total Players by Position')\n",
    "plt.show()"
   ]
  },
  {
   "cell_type": "code",
   "execution_count": 52,
   "metadata": {},
   "outputs": [
    {
     "data": {
      "image/png": "[encoded data removed]",
      "text/plain": [
       "<Figure size 432x288 with 1 Axes>"
      ]
     },
     "metadata": {
      "needs_background": "light"
     },
     "output_type": "display_data"
    }
   ],
   "source": [
    "# plot dEPA per play\n",
    "\n",
    "sns.barplot(x = 'play_pos', y = 'dEPA', data = dl_mean)\n",
    "plt.xlabel('Position')\n",
    "plt.title('Per 60 Plays dEPA by Position')\n",
    "plt.show()\n"
   ]
  },
  {
   "cell_type": "markdown",
   "metadata": {},
   "source": [
    "# Game Situation Analysis"
   ]
  },
  {
   "cell_type": "markdown",
   "metadata": {},
   "source": [
    "# Passing plays"
   ]
  },
  {
   "cell_type": "code",
   "execution_count": 14,
   "metadata": {},
   "outputs": [],
   "source": [
    "# passing situations\n",
    "passing = play_data.loc[play_data['EventType'] == 'pass']\n",
    "passing_mean = passing.groupby('play_pos').agg({'EventID':'nunique','dEPA':'mean','SoloSack':'mean','AssistedSack':'mean', 'Pressure':'mean', 'PassBreakup':'mean','ForcedFumble':'mean'}).reset_index()\n",
    "passing_totals = passing.groupby('play_pos').agg({'EventID':'count','PlayerId':'nunique','dEPA':'sum','SoloSack':'sum','AssistedSack':'sum', 'Pressure':'sum', 'PassBreakup':'sum','ForcedFumble':'sum'}).reset_index()"
   ]
  },
  {
   "cell_type": "code",
   "execution_count": 15,
   "metadata": {},
   "outputs": [],
   "source": [
    "# update mean values to be per 60 plays\n",
    "passing_mean['dEPA'] = passing_mean['dEPA']*60\n",
    "passing_mean['SoloSack'] = passing_mean['SoloSack']*60\n",
    "passing_mean['AssistedSack'] = passing_mean['AssistedSack']*60\n",
    "passing_mean['Pressure'] = passing_mean['Pressure']*60\n",
    "passing_mean['PassBreakup'] = passing_mean['PassBreakup']*60\n",
    "passing_mean['ForcedFumble'] = passing_mean['ForcedFumble']*60"
   ]
  },
  {
   "cell_type": "code",
   "execution_count": 16,
   "metadata": {},
   "outputs": [
    {
     "data": {
      "text/html": [
       "<div>\n",
       "<style scoped>\n",
       "    .dataframe tbody tr th:only-of-type {\n",
       "        vertical-align: middle;\n",
       "    }\n",
       "\n",
       "    .dataframe tbody tr th {\n",
       "        vertical-align: top;\n",
       "    }\n",
       "\n",
       "    .dataframe thead th {\n",
       "        text-align: right;\n",
       "    }\n",
       "</style>\n",
       "<table border=\"1\" class=\"dataframe\">\n",
       "  <thead>\n",
       "    <tr style=\"text-align: right;\">\n",
       "      <th></th>\n",
       "      <th>play_pos</th>\n",
       "      <th>EventID</th>\n",
       "      <th>dEPA</th>\n",
       "      <th>SoloSack</th>\n",
       "      <th>AssistedSack</th>\n",
       "      <th>Pressure</th>\n",
       "      <th>PassBreakup</th>\n",
       "      <th>ForcedFumble</th>\n",
       "    </tr>\n",
       "  </thead>\n",
       "  <tbody>\n",
       "    <tr>\n",
       "      <th>0</th>\n",
       "      <td>DE</td>\n",
       "      <td>211</td>\n",
       "      <td>2.497266</td>\n",
       "      <td>0.637950</td>\n",
       "      <td>0.171756</td>\n",
       "      <td>5.308070</td>\n",
       "      <td>0.229008</td>\n",
       "      <td>0.098146</td>\n",
       "    </tr>\n",
       "    <tr>\n",
       "      <th>1</th>\n",
       "      <td>DT</td>\n",
       "      <td>216</td>\n",
       "      <td>0.166172</td>\n",
       "      <td>0.523669</td>\n",
       "      <td>0.079689</td>\n",
       "      <td>3.773835</td>\n",
       "      <td>0.324447</td>\n",
       "      <td>0.028460</td>\n",
       "    </tr>\n",
       "    <tr>\n",
       "      <th>2</th>\n",
       "      <td>EDGE</td>\n",
       "      <td>224</td>\n",
       "      <td>0.846862</td>\n",
       "      <td>0.903540</td>\n",
       "      <td>0.167667</td>\n",
       "      <td>5.927344</td>\n",
       "      <td>0.347754</td>\n",
       "      <td>0.186297</td>\n",
       "    </tr>\n",
       "    <tr>\n",
       "      <th>3</th>\n",
       "      <td>NT</td>\n",
       "      <td>211</td>\n",
       "      <td>0.209233</td>\n",
       "      <td>0.335340</td>\n",
       "      <td>0.193465</td>\n",
       "      <td>3.353396</td>\n",
       "      <td>0.232158</td>\n",
       "      <td>0.025795</td>\n",
       "    </tr>\n",
       "  </tbody>\n",
       "</table>\n",
       "</div>"
      ],
      "text/plain": [
       "  play_pos  EventID      dEPA  SoloSack  AssistedSack  Pressure  PassBreakup  \\\n",
       "0       DE      211  2.497266  0.637950      0.171756  5.308070     0.229008   \n",
       "1       DT      216  0.166172  0.523669      0.079689  3.773835     0.324447   \n",
       "2     EDGE      224  0.846862  0.903540      0.167667  5.927344     0.347754   \n",
       "3       NT      211  0.209233  0.335340      0.193465  3.353396     0.232158   \n",
       "\n",
       "   ForcedFumble  \n",
       "0      0.098146  \n",
       "1      0.028460  \n",
       "2      0.186297  \n",
       "3      0.025795  "
      ]
     },
     "execution_count": 16,
     "metadata": {},
     "output_type": "execute_result"
    }
   ],
   "source": [
    "passing_mean"
   ]
  },
  {
   "cell_type": "code",
   "execution_count": 17,
   "metadata": {},
   "outputs": [
    {
     "data": {
      "text/html": [
       "<div>\n",
       "<style scoped>\n",
       "    .dataframe tbody tr th:only-of-type {\n",
       "        vertical-align: middle;\n",
       "    }\n",
       "\n",
       "    .dataframe tbody tr th {\n",
       "        vertical-align: top;\n",
       "    }\n",
       "\n",
       "    .dataframe thead th {\n",
       "        text-align: right;\n",
       "    }\n",
       "</style>\n",
       "<table border=\"1\" class=\"dataframe\">\n",
       "  <thead>\n",
       "    <tr style=\"text-align: right;\">\n",
       "      <th></th>\n",
       "      <th>play_pos</th>\n",
       "      <th>EventID</th>\n",
       "      <th>PlayerId</th>\n",
       "      <th>dEPA</th>\n",
       "      <th>SoloSack</th>\n",
       "      <th>AssistedSack</th>\n",
       "      <th>Pressure</th>\n",
       "      <th>PassBreakup</th>\n",
       "      <th>ForcedFumble</th>\n",
       "    </tr>\n",
       "  </thead>\n",
       "  <tbody>\n",
       "    <tr>\n",
       "      <th>0</th>\n",
       "      <td>DE</td>\n",
       "      <td>7336</td>\n",
       "      <td>290</td>\n",
       "      <td>305.332367</td>\n",
       "      <td>78</td>\n",
       "      <td>21</td>\n",
       "      <td>649</td>\n",
       "      <td>28</td>\n",
       "      <td>12</td>\n",
       "    </tr>\n",
       "    <tr>\n",
       "      <th>1</th>\n",
       "      <td>DT</td>\n",
       "      <td>10541</td>\n",
       "      <td>268</td>\n",
       "      <td>29.188166</td>\n",
       "      <td>92</td>\n",
       "      <td>14</td>\n",
       "      <td>663</td>\n",
       "      <td>57</td>\n",
       "      <td>5</td>\n",
       "    </tr>\n",
       "    <tr>\n",
       "      <th>2</th>\n",
       "      <td>EDGE</td>\n",
       "      <td>19324</td>\n",
       "      <td>539</td>\n",
       "      <td>272.703817</td>\n",
       "      <td>291</td>\n",
       "      <td>54</td>\n",
       "      <td>1909</td>\n",
       "      <td>112</td>\n",
       "      <td>60</td>\n",
       "    </tr>\n",
       "    <tr>\n",
       "      <th>3</th>\n",
       "      <td>NT</td>\n",
       "      <td>4652</td>\n",
       "      <td>206</td>\n",
       "      <td>16.222560</td>\n",
       "      <td>26</td>\n",
       "      <td>15</td>\n",
       "      <td>260</td>\n",
       "      <td>18</td>\n",
       "      <td>2</td>\n",
       "    </tr>\n",
       "  </tbody>\n",
       "</table>\n",
       "</div>"
      ],
      "text/plain": [
       "  play_pos  EventID  PlayerId        dEPA  SoloSack  AssistedSack  Pressure  \\\n",
       "0       DE     7336       290  305.332367        78            21       649   \n",
       "1       DT    10541       268   29.188166        92            14       663   \n",
       "2     EDGE    19324       539  272.703817       291            54      1909   \n",
       "3       NT     4652       206   16.222560        26            15       260   \n",
       "\n",
       "   PassBreakup  ForcedFumble  \n",
       "0           28            12  \n",
       "1           57             5  \n",
       "2          112            60  \n",
       "3           18             2  "
      ]
     },
     "execution_count": 17,
     "metadata": {},
     "output_type": "execute_result"
    }
   ],
   "source": [
    "passing_totals"
   ]
  },
  {
   "cell_type": "code",
   "execution_count": 18,
   "metadata": {},
   "outputs": [
    {
     "data": {
      "image/png": "[encoded data removed]",
      "text/plain": [
       "<Figure size 432x288 with 1 Axes>"
      ]
     },
     "metadata": {
      "needs_background": "light"
     },
     "output_type": "display_data"
    }
   ],
   "source": [
    "sns.barplot(x = 'play_pos', y = 'dEPA', data = passing_mean)\n",
    "plt.xlabel('Position')\n",
    "plt.suptitle('Passing Plays dEPA by Position', fontsize = 12)\n",
    "plt.title('dEPA per 60 plays', fontsize = 9, y = 1)\n",
    "plt.show()"
   ]
  },
  {
   "cell_type": "markdown",
   "metadata": {},
   "source": [
    "# Rushing Plays"
   ]
  },
  {
   "cell_type": "code",
   "execution_count": 19,
   "metadata": {},
   "outputs": [],
   "source": [
    "# passing situations\n",
    "rushing = play_data.loc[play_data['EventType'] == 'rush']\n",
    "rushing_mean = rushing.groupby('play_pos').agg({'EventID':'nunique','dEPA':'mean','Pressure':'mean', 'ForcedFumble':'mean'}).reset_index()\n",
    "rushing_totals = rushing.groupby('play_pos').agg({'EventID':'count','PlayerId':'nunique','dEPA':'sum','Pressure':'sum', 'PassBreakup':'sum'}).reset_index()"
   ]
  },
  {
   "cell_type": "code",
   "execution_count": 20,
   "metadata": {},
   "outputs": [],
   "source": [
    "# update mean values to be per 60 plays\n",
    "rushing_mean['dEPA'] = rushing_mean['dEPA']*60\n",
    "rushing_mean['Pressure'] = rushing_mean['Pressure']*60\n",
    "rushing_mean['ForcedFumble'] = rushing_mean['ForcedFumble']*60"
   ]
  },
  {
   "cell_type": "code",
   "execution_count": 21,
   "metadata": {},
   "outputs": [
    {
     "data": {
      "text/html": [
       "<div>\n",
       "<style scoped>\n",
       "    .dataframe tbody tr th:only-of-type {\n",
       "        vertical-align: middle;\n",
       "    }\n",
       "\n",
       "    .dataframe tbody tr th {\n",
       "        vertical-align: top;\n",
       "    }\n",
       "\n",
       "    .dataframe thead th {\n",
       "        text-align: right;\n",
       "    }\n",
       "</style>\n",
       "<table border=\"1\" class=\"dataframe\">\n",
       "  <thead>\n",
       "    <tr style=\"text-align: right;\">\n",
       "      <th></th>\n",
       "      <th>play_pos</th>\n",
       "      <th>EventID</th>\n",
       "      <th>dEPA</th>\n",
       "      <th>Pressure</th>\n",
       "      <th>ForcedFumble</th>\n",
       "    </tr>\n",
       "  </thead>\n",
       "  <tbody>\n",
       "    <tr>\n",
       "      <th>0</th>\n",
       "      <td>DE</td>\n",
       "      <td>201</td>\n",
       "      <td>2.533672</td>\n",
       "      <td>0.419130</td>\n",
       "      <td>0.053735</td>\n",
       "    </tr>\n",
       "    <tr>\n",
       "      <th>1</th>\n",
       "      <td>DT</td>\n",
       "      <td>210</td>\n",
       "      <td>2.873521</td>\n",
       "      <td>0.258035</td>\n",
       "      <td>0.020371</td>\n",
       "    </tr>\n",
       "    <tr>\n",
       "      <th>2</th>\n",
       "      <td>EDGE</td>\n",
       "      <td>210</td>\n",
       "      <td>2.928782</td>\n",
       "      <td>0.503097</td>\n",
       "      <td>0.063454</td>\n",
       "    </tr>\n",
       "    <tr>\n",
       "      <th>3</th>\n",
       "      <td>NT</td>\n",
       "      <td>204</td>\n",
       "      <td>3.476345</td>\n",
       "      <td>0.247536</td>\n",
       "      <td>0.041256</td>\n",
       "    </tr>\n",
       "  </tbody>\n",
       "</table>\n",
       "</div>"
      ],
      "text/plain": [
       "  play_pos  EventID      dEPA  Pressure  ForcedFumble\n",
       "0       DE      201  2.533672  0.419130      0.053735\n",
       "1       DT      210  2.873521  0.258035      0.020371\n",
       "2     EDGE      210  2.928782  0.503097      0.063454\n",
       "3       NT      204  3.476345  0.247536      0.041256"
      ]
     },
     "execution_count": 21,
     "metadata": {},
     "output_type": "execute_result"
    }
   ],
   "source": [
    "rushing_mean"
   ]
  },
  {
   "cell_type": "code",
   "execution_count": 22,
   "metadata": {},
   "outputs": [
    {
     "data": {
      "text/html": [
       "<div>\n",
       "<style scoped>\n",
       "    .dataframe tbody tr th:only-of-type {\n",
       "        vertical-align: middle;\n",
       "    }\n",
       "\n",
       "    .dataframe tbody tr th {\n",
       "        vertical-align: top;\n",
       "    }\n",
       "\n",
       "    .dataframe thead th {\n",
       "        text-align: right;\n",
       "    }\n",
       "</style>\n",
       "<table border=\"1\" class=\"dataframe\">\n",
       "  <thead>\n",
       "    <tr style=\"text-align: right;\">\n",
       "      <th></th>\n",
       "      <th>play_pos</th>\n",
       "      <th>EventID</th>\n",
       "      <th>PlayerId</th>\n",
       "      <th>dEPA</th>\n",
       "      <th>Pressure</th>\n",
       "      <th>PassBreakup</th>\n",
       "    </tr>\n",
       "  </thead>\n",
       "  <tbody>\n",
       "    <tr>\n",
       "      <th>0</th>\n",
       "      <td>DE</td>\n",
       "      <td>5583</td>\n",
       "      <td>267</td>\n",
       "      <td>235.758171</td>\n",
       "      <td>39</td>\n",
       "      <td>0</td>\n",
       "    </tr>\n",
       "    <tr>\n",
       "      <th>1</th>\n",
       "      <td>DT</td>\n",
       "      <td>8836</td>\n",
       "      <td>262</td>\n",
       "      <td>423.173859</td>\n",
       "      <td>38</td>\n",
       "      <td>0</td>\n",
       "    </tr>\n",
       "    <tr>\n",
       "      <th>2</th>\n",
       "      <td>EDGE</td>\n",
       "      <td>13238</td>\n",
       "      <td>529</td>\n",
       "      <td>646.186934</td>\n",
       "      <td>111</td>\n",
       "      <td>0</td>\n",
       "    </tr>\n",
       "    <tr>\n",
       "      <th>3</th>\n",
       "      <td>NT</td>\n",
       "      <td>4363</td>\n",
       "      <td>185</td>\n",
       "      <td>252.788239</td>\n",
       "      <td>18</td>\n",
       "      <td>0</td>\n",
       "    </tr>\n",
       "  </tbody>\n",
       "</table>\n",
       "</div>"
      ],
      "text/plain": [
       "  play_pos  EventID  PlayerId        dEPA  Pressure  PassBreakup\n",
       "0       DE     5583       267  235.758171        39            0\n",
       "1       DT     8836       262  423.173859        38            0\n",
       "2     EDGE    13238       529  646.186934       111            0\n",
       "3       NT     4363       185  252.788239        18            0"
      ]
     },
     "execution_count": 22,
     "metadata": {},
     "output_type": "execute_result"
    }
   ],
   "source": [
    "rushing_totals"
   ]
  },
  {
   "cell_type": "code",
   "execution_count": 37,
   "metadata": {},
   "outputs": [
    {
     "data": {
      "image/png": "[encoded data removed]",
      "text/plain": [
       "<Figure size 432x288 with 1 Axes>"
      ]
     },
     "metadata": {
      "needs_background": "light"
     },
     "output_type": "display_data"
    }
   ],
   "source": [
    "sns.barplot(x = 'play_pos', y = 'dEPA', data = rushing_mean)\n",
    "plt.xlabel('Position')\n",
    "plt.suptitle('Rushing Plays dEPA by Position', fontsize = 12)\n",
    "plt.title('dEPA per 60 plays', fontsize = 9, y = 1)\n",
    "plt.show()"
   ]
  },
  {
   "cell_type": "markdown",
   "metadata": {},
   "source": [
    "# Short Yardage"
   ]
  },
  {
   "cell_type": "code",
   "execution_count": 23,
   "metadata": {},
   "outputs": [],
   "source": [
    "short_yard = play_data.loc[play_data['ToGo'] <= 3]\n",
    "short_yard_mean = short_yard.groupby('play_pos').agg({'EventID':'nunique','dEPA':'mean','SoloSack':'mean','AssistedSack':'mean', 'Pressure':'mean', 'PassBreakup':'mean','ForcedFumble':'mean'}).reset_index()\n",
    "short_yard_totals = short_yard.groupby('play_pos').agg({'EventID':'count','PlayerId':'nunique','dEPA':'sum','SoloSack':'sum','AssistedSack':'sum', 'Pressure':'sum', 'PassBreakup':'sum','ForcedFumble':'sum'}).reset_index()"
   ]
  },
  {
   "cell_type": "code",
   "execution_count": 24,
   "metadata": {},
   "outputs": [],
   "source": [
    "short_yard_mean['dEPA'] = short_yard_mean['dEPA']*60\n",
    "short_yard_mean['SoloSack'] = short_yard_mean['SoloSack']*60\n",
    "short_yard_mean['AssistedSack'] = short_yard_mean['AssistedSack']*60\n",
    "short_yard_mean['Pressure'] = short_yard_mean['Pressure']*60\n",
    "short_yard_mean['PassBreakup'] = short_yard_mean['PassBreakup']*60\n",
    "short_yard_mean['ForcedFumble'] = short_yard_mean['ForcedFumble']*60"
   ]
  },
  {
   "cell_type": "code",
   "execution_count": 25,
   "metadata": {},
   "outputs": [
    {
     "data": {
      "text/html": [
       "<div>\n",
       "<style scoped>\n",
       "    .dataframe tbody tr th:only-of-type {\n",
       "        vertical-align: middle;\n",
       "    }\n",
       "\n",
       "    .dataframe tbody tr th {\n",
       "        vertical-align: top;\n",
       "    }\n",
       "\n",
       "    .dataframe thead th {\n",
       "        text-align: right;\n",
       "    }\n",
       "</style>\n",
       "<table border=\"1\" class=\"dataframe\">\n",
       "  <thead>\n",
       "    <tr style=\"text-align: right;\">\n",
       "      <th></th>\n",
       "      <th>play_pos</th>\n",
       "      <th>EventID</th>\n",
       "      <th>dEPA</th>\n",
       "      <th>SoloSack</th>\n",
       "      <th>AssistedSack</th>\n",
       "      <th>Pressure</th>\n",
       "      <th>PassBreakup</th>\n",
       "      <th>ForcedFumble</th>\n",
       "    </tr>\n",
       "  </thead>\n",
       "  <tbody>\n",
       "    <tr>\n",
       "      <th>0</th>\n",
       "      <td>DE</td>\n",
       "      <td>192</td>\n",
       "      <td>4.119075</td>\n",
       "      <td>0.368921</td>\n",
       "      <td>0.134153</td>\n",
       "      <td>2.347680</td>\n",
       "      <td>0.134153</td>\n",
       "      <td>0.134153</td>\n",
       "    </tr>\n",
       "    <tr>\n",
       "      <th>1</th>\n",
       "      <td>DT</td>\n",
       "      <td>193</td>\n",
       "      <td>1.601573</td>\n",
       "      <td>0.190024</td>\n",
       "      <td>0.000000</td>\n",
       "      <td>1.472684</td>\n",
       "      <td>0.118765</td>\n",
       "      <td>0.023753</td>\n",
       "    </tr>\n",
       "    <tr>\n",
       "      <th>2</th>\n",
       "      <td>EDGE</td>\n",
       "      <td>198</td>\n",
       "      <td>2.194900</td>\n",
       "      <td>0.308916</td>\n",
       "      <td>0.042125</td>\n",
       "      <td>2.471332</td>\n",
       "      <td>0.224667</td>\n",
       "      <td>0.098292</td>\n",
       "    </tr>\n",
       "    <tr>\n",
       "      <th>3</th>\n",
       "      <td>NT</td>\n",
       "      <td>194</td>\n",
       "      <td>1.413505</td>\n",
       "      <td>0.086207</td>\n",
       "      <td>0.086207</td>\n",
       "      <td>0.991379</td>\n",
       "      <td>0.129310</td>\n",
       "      <td>0.043103</td>\n",
       "    </tr>\n",
       "  </tbody>\n",
       "</table>\n",
       "</div>"
      ],
      "text/plain": [
       "  play_pos  EventID      dEPA  SoloSack  AssistedSack  Pressure  PassBreakup  \\\n",
       "0       DE      192  4.119075  0.368921      0.134153  2.347680     0.134153   \n",
       "1       DT      193  1.601573  0.190024      0.000000  1.472684     0.118765   \n",
       "2     EDGE      198  2.194900  0.308916      0.042125  2.471332     0.224667   \n",
       "3       NT      194  1.413505  0.086207      0.086207  0.991379     0.129310   \n",
       "\n",
       "   ForcedFumble  \n",
       "0      0.134153  \n",
       "1      0.023753  \n",
       "2      0.098292  \n",
       "3      0.043103  "
      ]
     },
     "execution_count": 25,
     "metadata": {},
     "output_type": "execute_result"
    }
   ],
   "source": [
    "short_yard_mean"
   ]
  },
  {
   "cell_type": "code",
   "execution_count": 26,
   "metadata": {},
   "outputs": [
    {
     "data": {
      "text/html": [
       "<div>\n",
       "<style scoped>\n",
       "    .dataframe tbody tr th:only-of-type {\n",
       "        vertical-align: middle;\n",
       "    }\n",
       "\n",
       "    .dataframe tbody tr th {\n",
       "        vertical-align: top;\n",
       "    }\n",
       "\n",
       "    .dataframe thead th {\n",
       "        text-align: right;\n",
       "    }\n",
       "</style>\n",
       "<table border=\"1\" class=\"dataframe\">\n",
       "  <thead>\n",
       "    <tr style=\"text-align: right;\">\n",
       "      <th></th>\n",
       "      <th>play_pos</th>\n",
       "      <th>EventID</th>\n",
       "      <th>PlayerId</th>\n",
       "      <th>dEPA</th>\n",
       "      <th>SoloSack</th>\n",
       "      <th>AssistedSack</th>\n",
       "      <th>Pressure</th>\n",
       "      <th>PassBreakup</th>\n",
       "      <th>ForcedFumble</th>\n",
       "    </tr>\n",
       "  </thead>\n",
       "  <tbody>\n",
       "    <tr>\n",
       "      <th>0</th>\n",
       "      <td>DE</td>\n",
       "      <td>1789</td>\n",
       "      <td>246</td>\n",
       "      <td>122.817101</td>\n",
       "      <td>11</td>\n",
       "      <td>4</td>\n",
       "      <td>70</td>\n",
       "      <td>4</td>\n",
       "      <td>4</td>\n",
       "    </tr>\n",
       "    <tr>\n",
       "      <th>1</th>\n",
       "      <td>DT</td>\n",
       "      <td>2526</td>\n",
       "      <td>247</td>\n",
       "      <td>67.426206</td>\n",
       "      <td>8</td>\n",
       "      <td>0</td>\n",
       "      <td>62</td>\n",
       "      <td>5</td>\n",
       "      <td>1</td>\n",
       "    </tr>\n",
       "    <tr>\n",
       "      <th>2</th>\n",
       "      <td>EDGE</td>\n",
       "      <td>4273</td>\n",
       "      <td>440</td>\n",
       "      <td>156.313486</td>\n",
       "      <td>22</td>\n",
       "      <td>3</td>\n",
       "      <td>176</td>\n",
       "      <td>16</td>\n",
       "      <td>7</td>\n",
       "    </tr>\n",
       "    <tr>\n",
       "      <th>3</th>\n",
       "      <td>NT</td>\n",
       "      <td>1392</td>\n",
       "      <td>161</td>\n",
       "      <td>32.793322</td>\n",
       "      <td>2</td>\n",
       "      <td>2</td>\n",
       "      <td>23</td>\n",
       "      <td>3</td>\n",
       "      <td>1</td>\n",
       "    </tr>\n",
       "  </tbody>\n",
       "</table>\n",
       "</div>"
      ],
      "text/plain": [
       "  play_pos  EventID  PlayerId        dEPA  SoloSack  AssistedSack  Pressure  \\\n",
       "0       DE     1789       246  122.817101        11             4        70   \n",
       "1       DT     2526       247   67.426206         8             0        62   \n",
       "2     EDGE     4273       440  156.313486        22             3       176   \n",
       "3       NT     1392       161   32.793322         2             2        23   \n",
       "\n",
       "   PassBreakup  ForcedFumble  \n",
       "0            4             4  \n",
       "1            5             1  \n",
       "2           16             7  \n",
       "3            3             1  "
      ]
     },
     "execution_count": 26,
     "metadata": {},
     "output_type": "execute_result"
    }
   ],
   "source": [
    "short_yard_totals"
   ]
  },
  {
   "cell_type": "code",
   "execution_count": 38,
   "metadata": {},
   "outputs": [
    {
     "data": {
      "image/png": "[encoded data removed]",
      "text/plain": [
       "<Figure size 432x288 with 1 Axes>"
      ]
     },
     "metadata": {
      "needs_background": "light"
     },
     "output_type": "display_data"
    }
   ],
   "source": [
    "sns.barplot(x = 'play_pos', y = 'dEPA', data = short_yard_mean)\n",
    "plt.xlabel('Position')\n",
    "plt.suptitle('Short Yardage dEPA by Position', fontsize = 12)\n",
    "plt.title('dEPA per 60 plays', fontsize = 9, y = 1)\n",
    "plt.show()"
   ]
  },
  {
   "cell_type": "markdown",
   "metadata": {},
   "source": [
    "# Passing Situations"
   ]
  },
  {
   "cell_type": "code",
   "execution_count": 32,
   "metadata": {},
   "outputs": [],
   "source": [
    "passing_sit = play_data.loc[((play_data['Down'] == 1) & (play_data['ToGo'] >= 15))\\\n",
    "                            | ((play_data['Down'] == 2) & (play_data['ToGo'] >= 10))\\\n",
    "                            | ((play_data['Down'] >= 3) & (play_data['ToGo'] >= 5))]\n",
    "passing_sit_mean = passing_sit.groupby('play_pos').agg({'EventID':'nunique','dEPA':'mean','SoloSack':'mean','AssistedSack':'mean', 'Pressure':'mean', 'PassBreakup':'mean','ForcedFumble':'mean'}).reset_index()\n",
    "passing_sit_totals = passing_sit.groupby('play_pos').agg({'EventID':'count','PlayerId':'nunique','dEPA':'sum','SoloSack':'sum','AssistedSack':'sum', 'Pressure':'sum', 'PassBreakup':'sum','ForcedFumble':'sum'}).reset_index()"
   ]
  },
  {
   "cell_type": "code",
   "execution_count": 33,
   "metadata": {},
   "outputs": [],
   "source": [
    "passing_sit_mean['dEPA'] = passing_sit_mean['dEPA']*60\n",
    "passing_sit_mean['SoloSack'] = passing_sit_mean['SoloSack']*60\n",
    "passing_sit_mean['AssistedSack'] = passing_sit_mean['AssistedSack']*60\n",
    "passing_sit_mean['Pressure'] = passing_sit_mean['Pressure']*60\n",
    "passing_sit_mean['PassBreakup'] = passing_sit_mean['PassBreakup']*60\n",
    "passing_sit_mean['ForcedFumble'] = passing_sit_mean['ForcedFumble']*60"
   ]
  },
  {
   "cell_type": "code",
   "execution_count": 34,
   "metadata": {},
   "outputs": [
    {
     "data": {
      "text/html": [
       "<div>\n",
       "<style scoped>\n",
       "    .dataframe tbody tr th:only-of-type {\n",
       "        vertical-align: middle;\n",
       "    }\n",
       "\n",
       "    .dataframe tbody tr th {\n",
       "        vertical-align: top;\n",
       "    }\n",
       "\n",
       "    .dataframe thead th {\n",
       "        text-align: right;\n",
       "    }\n",
       "</style>\n",
       "<table border=\"1\" class=\"dataframe\">\n",
       "  <thead>\n",
       "    <tr style=\"text-align: right;\">\n",
       "      <th></th>\n",
       "      <th>play_pos</th>\n",
       "      <th>EventID</th>\n",
       "      <th>dEPA</th>\n",
       "      <th>SoloSack</th>\n",
       "      <th>AssistedSack</th>\n",
       "      <th>Pressure</th>\n",
       "      <th>PassBreakup</th>\n",
       "      <th>ForcedFumble</th>\n",
       "    </tr>\n",
       "  </thead>\n",
       "  <tbody>\n",
       "    <tr>\n",
       "      <th>0</th>\n",
       "      <td>DE</td>\n",
       "      <td>201</td>\n",
       "      <td>5.660308</td>\n",
       "      <td>0.558391</td>\n",
       "      <td>0.162113</td>\n",
       "      <td>5.043530</td>\n",
       "      <td>0.252177</td>\n",
       "      <td>0.054038</td>\n",
       "    </tr>\n",
       "    <tr>\n",
       "      <th>1</th>\n",
       "      <td>DT</td>\n",
       "      <td>205</td>\n",
       "      <td>4.791444</td>\n",
       "      <td>0.467186</td>\n",
       "      <td>0.080089</td>\n",
       "      <td>3.563960</td>\n",
       "      <td>0.360400</td>\n",
       "      <td>0.026696</td>\n",
       "    </tr>\n",
       "    <tr>\n",
       "      <th>2</th>\n",
       "      <td>EDGE</td>\n",
       "      <td>211</td>\n",
       "      <td>4.320784</td>\n",
       "      <td>0.894589</td>\n",
       "      <td>0.181420</td>\n",
       "      <td>5.667814</td>\n",
       "      <td>0.294026</td>\n",
       "      <td>0.212699</td>\n",
       "    </tr>\n",
       "    <tr>\n",
       "      <th>3</th>\n",
       "      <td>NT</td>\n",
       "      <td>203</td>\n",
       "      <td>4.893013</td>\n",
       "      <td>0.241327</td>\n",
       "      <td>0.150830</td>\n",
       "      <td>3.499246</td>\n",
       "      <td>0.180995</td>\n",
       "      <td>0.000000</td>\n",
       "    </tr>\n",
       "  </tbody>\n",
       "</table>\n",
       "</div>"
      ],
      "text/plain": [
       "  play_pos  EventID      dEPA  SoloSack  AssistedSack  Pressure  PassBreakup  \\\n",
       "0       DE      201  5.660308  0.558391      0.162113  5.043530     0.252177   \n",
       "1       DT      205  4.791444  0.467186      0.080089  3.563960     0.360400   \n",
       "2     EDGE      211  4.320784  0.894589      0.181420  5.667814     0.294026   \n",
       "3       NT      203  4.893013  0.241327      0.150830  3.499246     0.180995   \n",
       "\n",
       "   ForcedFumble  \n",
       "0      0.054038  \n",
       "1      0.026696  \n",
       "2      0.212699  \n",
       "3      0.000000  "
      ]
     },
     "execution_count": 34,
     "metadata": {},
     "output_type": "execute_result"
    }
   ],
   "source": [
    "passing_sit_mean"
   ]
  },
  {
   "cell_type": "code",
   "execution_count": 35,
   "metadata": {},
   "outputs": [
    {
     "data": {
      "text/html": [
       "<div>\n",
       "<style scoped>\n",
       "    .dataframe tbody tr th:only-of-type {\n",
       "        vertical-align: middle;\n",
       "    }\n",
       "\n",
       "    .dataframe tbody tr th {\n",
       "        vertical-align: top;\n",
       "    }\n",
       "\n",
       "    .dataframe thead th {\n",
       "        text-align: right;\n",
       "    }\n",
       "</style>\n",
       "<table border=\"1\" class=\"dataframe\">\n",
       "  <thead>\n",
       "    <tr style=\"text-align: right;\">\n",
       "      <th></th>\n",
       "      <th>play_pos</th>\n",
       "      <th>EventID</th>\n",
       "      <th>PlayerId</th>\n",
       "      <th>dEPA</th>\n",
       "      <th>SoloSack</th>\n",
       "      <th>AssistedSack</th>\n",
       "      <th>Pressure</th>\n",
       "      <th>PassBreakup</th>\n",
       "      <th>ForcedFumble</th>\n",
       "    </tr>\n",
       "  </thead>\n",
       "  <tbody>\n",
       "    <tr>\n",
       "      <th>0</th>\n",
       "      <td>DE</td>\n",
       "      <td>3331</td>\n",
       "      <td>265</td>\n",
       "      <td>314.241445</td>\n",
       "      <td>31</td>\n",
       "      <td>9</td>\n",
       "      <td>280</td>\n",
       "      <td>14</td>\n",
       "      <td>3</td>\n",
       "    </tr>\n",
       "    <tr>\n",
       "      <th>1</th>\n",
       "      <td>DT</td>\n",
       "      <td>4495</td>\n",
       "      <td>249</td>\n",
       "      <td>358.958979</td>\n",
       "      <td>35</td>\n",
       "      <td>6</td>\n",
       "      <td>267</td>\n",
       "      <td>27</td>\n",
       "      <td>2</td>\n",
       "    </tr>\n",
       "    <tr>\n",
       "      <th>2</th>\n",
       "      <td>EDGE</td>\n",
       "      <td>9591</td>\n",
       "      <td>454</td>\n",
       "      <td>690.677246</td>\n",
       "      <td>143</td>\n",
       "      <td>29</td>\n",
       "      <td>906</td>\n",
       "      <td>47</td>\n",
       "      <td>34</td>\n",
       "    </tr>\n",
       "    <tr>\n",
       "      <th>3</th>\n",
       "      <td>NT</td>\n",
       "      <td>1989</td>\n",
       "      <td>187</td>\n",
       "      <td>162.203393</td>\n",
       "      <td>8</td>\n",
       "      <td>5</td>\n",
       "      <td>116</td>\n",
       "      <td>6</td>\n",
       "      <td>0</td>\n",
       "    </tr>\n",
       "  </tbody>\n",
       "</table>\n",
       "</div>"
      ],
      "text/plain": [
       "  play_pos  EventID  PlayerId        dEPA  SoloSack  AssistedSack  Pressure  \\\n",
       "0       DE     3331       265  314.241445        31             9       280   \n",
       "1       DT     4495       249  358.958979        35             6       267   \n",
       "2     EDGE     9591       454  690.677246       143            29       906   \n",
       "3       NT     1989       187  162.203393         8             5       116   \n",
       "\n",
       "   PassBreakup  ForcedFumble  \n",
       "0           14             3  \n",
       "1           27             2  \n",
       "2           47            34  \n",
       "3            6             0  "
      ]
     },
     "execution_count": 35,
     "metadata": {},
     "output_type": "execute_result"
    }
   ],
   "source": [
    "passing_sit_totals"
   ]
  },
  {
   "cell_type": "code",
   "execution_count": 36,
   "metadata": {},
   "outputs": [
    {
     "data": {
      "image/png": "[encoded data removed]",
      "text/plain": [
       "<Figure size 432x288 with 1 Axes>"
      ]
     },
     "metadata": {
      "needs_background": "light"
     },
     "output_type": "display_data"
    }
   ],
   "source": [
    "sns.barplot(x = 'play_pos', y = 'dEPA', data = passing_sit_mean)\n",
    "plt.xlabel('Position')\n",
    "plt.suptitle('Passing Downs dEPA by Position', fontsize = 12)\n",
    "plt.title('dEPA per 60 plays', fontsize = 9, y = 1)\n",
    "plt.show()"
   ]
  },
  {
   "cell_type": "code",
   "execution_count": null,
   "metadata": {},
   "outputs": [],
   "source": []
  }
 ],
 "metadata": {
  "kernelspec": {
   "display_name": "Python 3",
   "language": "python",
   "name": "python3"
  },
  "language_info": {
   "codemirror_mode": {
    "name": "ipython",
    "version": 3
   },
   "file_extension": ".py",
   "mimetype": "text/x-python",
   "name": "python",
   "nbconvert_exporter": "python",
   "pygments_lexer": "ipython3",
   "version": "3.8.3"
  }
 },
 "nbformat": 4,
 "nbformat_minor": 4
}
